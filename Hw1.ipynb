{
  "nbformat": 4,
  "nbformat_minor": 0,
  "metadata": {
    "colab": {
      "provenance": [],
      "authorship_tag": "ABX9TyMcPI6hpn5Yj8z7PfyHFzro",
      "include_colab_link": true
    },
    "kernelspec": {
      "name": "python3",
      "display_name": "Python 3"
    },
    "language_info": {
      "name": "python"
    }
  },
  "cells": [
    {
      "cell_type": "markdown",
      "metadata": {
        "id": "view-in-github",
        "colab_type": "text"
      },
      "source": [
        "<a href=\"https://colab.research.google.com/github/yehorkalchenko81/goit-ds-hw-04/blob/main/Hw1.ipynb\" target=\"_parent\"><img src=\"https://colab.research.google.com/assets/colab-badge.svg\" alt=\"Open In Colab\"/></a>"
      ]
    },
    {
      "cell_type": "code",
      "execution_count": null,
      "metadata": {
        "id": "op7F0Wg7kRfr"
      },
      "outputs": [],
      "source": [
        "import numpy as np"
      ]
    },
    {
      "cell_type": "code",
      "source": [
        "arr_1 = np.arange(1, 11)\n",
        "arr_1"
      ],
      "metadata": {
        "colab": {
          "base_uri": "https://localhost:8080/"
        },
        "id": "vRXeBcAGkccy",
        "outputId": "e87321bc-4d0f-4aaa-fadc-086a53c128f9"
      },
      "execution_count": null,
      "outputs": [
        {
          "output_type": "execute_result",
          "data": {
            "text/plain": [
              "array([ 1,  2,  3,  4,  5,  6,  7,  8,  9, 10])"
            ]
          },
          "metadata": {},
          "execution_count": 5
        }
      ]
    },
    {
      "cell_type": "code",
      "source": [
        "arr_2 = np.zeros((3, 3))\n",
        "arr_2"
      ],
      "metadata": {
        "colab": {
          "base_uri": "https://localhost:8080/"
        },
        "id": "hRr_pSrflBQr",
        "outputId": "3a933f3d-e8e3-420b-d2f2-65421401720d"
      },
      "execution_count": null,
      "outputs": [
        {
          "output_type": "execute_result",
          "data": {
            "text/plain": [
              "array([[0., 0., 0.],\n",
              "       [0., 0., 0.],\n",
              "       [0., 0., 0.]])"
            ]
          },
          "metadata": {},
          "execution_count": 8
        }
      ]
    },
    {
      "cell_type": "code",
      "source": [
        "arr_3 = np.random.randint(1, 11, (5, 5))\n",
        "arr_3"
      ],
      "metadata": {
        "colab": {
          "base_uri": "https://localhost:8080/"
        },
        "id": "dQew-4M1lLYS",
        "outputId": "f663080f-89b6-4909-9b5b-ea29e9fcc94a"
      },
      "execution_count": null,
      "outputs": [
        {
          "output_type": "execute_result",
          "data": {
            "text/plain": [
              "array([[10,  4,  3,  6,  2],\n",
              "       [ 7,  3,  3, 10,  2],\n",
              "       [ 6,  7, 10,  5,  5],\n",
              "       [ 6,  1,  8,  7,  5],\n",
              "       [ 7,  3,  5,  9,  2]])"
            ]
          },
          "metadata": {},
          "execution_count": 11
        }
      ]
    },
    {
      "cell_type": "code",
      "source": [
        "arr_4 = np.random.random((4, 4))\n",
        "arr_4"
      ],
      "metadata": {
        "colab": {
          "base_uri": "https://localhost:8080/"
        },
        "id": "uLUF2OH1lhok",
        "outputId": "7dd3c46e-81ff-42b1-a9b9-5da20dd60239"
      },
      "execution_count": null,
      "outputs": [
        {
          "output_type": "execute_result",
          "data": {
            "text/plain": [
              "array([[0.87630284, 0.21956746, 0.42806205, 0.60279806],\n",
              "       [0.07885759, 0.11292922, 0.57490925, 0.70054263],\n",
              "       [0.57609362, 0.59761976, 0.2233681 , 0.68799769],\n",
              "       [0.81981768, 0.59043359, 0.38173616, 0.37889752]])"
            ]
          },
          "metadata": {},
          "execution_count": 13
        }
      ]
    },
    {
      "cell_type": "code",
      "source": [
        "arr_5_1 = np.random.randint(1, 11, 5)\n",
        "arr_5_2 = np.random.randint(1, 11, 5)\n",
        "print(arr_5_1 + arr_5_2)\n",
        "print(arr_5_1 - arr_5_2)\n",
        "print(arr_5_1 * arr_5_2)"
      ],
      "metadata": {
        "colab": {
          "base_uri": "https://localhost:8080/"
        },
        "id": "H43g-SH8myN9",
        "outputId": "b801890e-05b5-4632-b19b-56d3784a7b69"
      },
      "execution_count": null,
      "outputs": [
        {
          "output_type": "stream",
          "name": "stdout",
          "text": [
            "[13 12 13  9 10]\n",
            "[-1  4 -3  3  6]\n",
            "[42 32 40 18 16]\n"
          ]
        }
      ]
    },
    {
      "cell_type": "code",
      "source": [
        "arr_6_1 = np.array([1, 3, 5, 7, 9, 11, 13])\n",
        "arr_6_2 = np.array([2, 4, 6, 8, 10, 12, 14])\n",
        "np.dot(arr_6_1, arr_6_2)"
      ],
      "metadata": {
        "colab": {
          "base_uri": "https://localhost:8080/"
        },
        "id": "20aN3jDTnd64",
        "outputId": "fe93ad8a-63c0-4b51-b1d7-f88faf154c4d"
      },
      "execution_count": null,
      "outputs": [
        {
          "output_type": "execute_result",
          "data": {
            "text/plain": [
              "504"
            ]
          },
          "metadata": {},
          "execution_count": 23
        }
      ]
    },
    {
      "cell_type": "code",
      "source": [
        "arr_7_1 = np.random.randint(1, 11, (2, 2))\n",
        "arr_7_2 = np.random.randint(1, 11, (2, 3))\n",
        "np.dot(arr_7_1, arr_7_2)"
      ],
      "metadata": {
        "colab": {
          "base_uri": "https://localhost:8080/"
        },
        "id": "O763_49eoCcF",
        "outputId": "2c533017-d184-4dae-bc53-5502d243bbdc"
      },
      "execution_count": null,
      "outputs": [
        {
          "output_type": "execute_result",
          "data": {
            "text/plain": [
              "array([[ 95,  21,  73],\n",
              "       [102,  22,  74]])"
            ]
          },
          "metadata": {},
          "execution_count": 31
        }
      ]
    },
    {
      "cell_type": "code",
      "source": [
        "arr_8 = np.random.randint(1, 11, (3 ,3))\n",
        "arr_8_inv = np.linalg.inv(arr_8)\n",
        "arr_8_inv"
      ],
      "metadata": {
        "id": "Fq3uDqkhp1r-",
        "colab": {
          "base_uri": "https://localhost:8080/"
        },
        "outputId": "83192644-dc4c-4ff6-c82e-2b48173f90db"
      },
      "execution_count": 33,
      "outputs": [
        {
          "output_type": "execute_result",
          "data": {
            "text/plain": [
              "array([[-0.06849315,  0.17808219, -0.01369863],\n",
              "       [ 0.24200913, -0.09589041, -0.01826484],\n",
              "       [-0.24657534,  0.04109589,  0.15068493]])"
            ]
          },
          "metadata": {},
          "execution_count": 33
        }
      ]
    },
    {
      "cell_type": "code",
      "source": [
        "arr_9 = np.random.random((4, 4))\n",
        "arr_9 = arr_9.T\n",
        "arr_9"
      ],
      "metadata": {
        "colab": {
          "base_uri": "https://localhost:8080/"
        },
        "id": "xAqvieVGrUAM",
        "outputId": "5095301f-6de2-4ccc-eea2-461c6684d92a"
      },
      "execution_count": 40,
      "outputs": [
        {
          "output_type": "execute_result",
          "data": {
            "text/plain": [
              "array([[0.17657996, 0.33726105, 0.18667407, 0.73428231],\n",
              "       [0.59665109, 0.23512079, 0.03276525, 0.67650217],\n",
              "       [0.93092698, 0.51638907, 0.51891716, 0.61927683],\n",
              "       [0.68914476, 0.50014991, 0.62372221, 0.10255351]])"
            ]
          },
          "metadata": {},
          "execution_count": 40
        }
      ]
    },
    {
      "cell_type": "code",
      "source": [
        "arr_10_1 = np.random.randint(1, 11, (3, 4))\n",
        "arr_10_2 = np.random.randint(1, 11, 4)\n",
        "np.dot(arr_10_1, arr_10_2)"
      ],
      "metadata": {
        "colab": {
          "base_uri": "https://localhost:8080/"
        },
        "id": "HWtJrEQMsAji",
        "outputId": "9658c998-8da9-44e2-8769-73b224c18274"
      },
      "execution_count": 42,
      "outputs": [
        {
          "output_type": "execute_result",
          "data": {
            "text/plain": [
              "array([120,  48, 152])"
            ]
          },
          "metadata": {},
          "execution_count": 42
        }
      ]
    },
    {
      "cell_type": "code",
      "source": [
        "arr_11_1 = np.random.randint(1, 11, (2, 3))\n",
        "arr_11_2 = np.random.randint(1, 11, 3)\n",
        "np.dot(arr_10_1, arr_10_2)"
      ],
      "metadata": {
        "colab": {
          "base_uri": "https://localhost:8080/"
        },
        "id": "llir5u9is1dw",
        "outputId": "369b7ffa-cd2d-4caf-c285-0f38d9388b23"
      },
      "execution_count": 44,
      "outputs": [
        {
          "output_type": "execute_result",
          "data": {
            "text/plain": [
              "array([120,  48, 152])"
            ]
          },
          "metadata": {},
          "execution_count": 44
        }
      ]
    },
    {
      "cell_type": "code",
      "source": [
        "arr_12_1 = np.random.randint(1, 11, (2, 2))\n",
        "arr_12_2 = np.random.randint(1, 11, (2, 2))\n",
        "arr_12_1 * arr_12_2"
      ],
      "metadata": {
        "colab": {
          "base_uri": "https://localhost:8080/"
        },
        "id": "A2E6NHV0ttQH",
        "outputId": "afabc58f-159c-49b8-ce61-7669a1f67239"
      },
      "execution_count": 46,
      "outputs": [
        {
          "output_type": "execute_result",
          "data": {
            "text/plain": [
              "array([[90,  2],\n",
              "       [56, 35]])"
            ]
          },
          "metadata": {},
          "execution_count": 46
        }
      ]
    },
    {
      "cell_type": "code",
      "source": [
        "arr_13_1 = np.random.randint(1, 11, (2, 2))\n",
        "arr_13_2 = np.random.randint(1, 11, (2, 2))\n",
        "arr_13_1 * arr_13_2"
      ],
      "metadata": {
        "colab": {
          "base_uri": "https://localhost:8080/"
        },
        "id": "nvakj2alxS7P",
        "outputId": "81a21678-8c51-4ad0-863a-fb329be0a8e7"
      },
      "execution_count": 48,
      "outputs": [
        {
          "output_type": "execute_result",
          "data": {
            "text/plain": [
              "array([[10, 18],\n",
              "       [10,  8]])"
            ]
          },
          "metadata": {},
          "execution_count": 48
        }
      ]
    },
    {
      "cell_type": "code",
      "source": [
        "arr_14 = np.random.randint(1, 101, (5, 5))\n",
        "arr_14.sum()"
      ],
      "metadata": {
        "colab": {
          "base_uri": "https://localhost:8080/"
        },
        "id": "8_YfxujfxZRR",
        "outputId": "e2b65a21-8c42-4ce8-d4c4-1cec4d18ce41"
      },
      "execution_count": 57,
      "outputs": [
        {
          "output_type": "execute_result",
          "data": {
            "text/plain": [
              "1270"
            ]
          },
          "metadata": {},
          "execution_count": 57
        }
      ]
    },
    {
      "cell_type": "code",
      "source": [
        "arr_15_1 = np.random.randint(1, 11, (4, 4))\n",
        "arr_15_2 = np.random.randint(1, 11, (4, 4))\n",
        "arr_15_1 - arr_15_2"
      ],
      "metadata": {
        "colab": {
          "base_uri": "https://localhost:8080/"
        },
        "id": "D0UzXPC6x5-S",
        "outputId": "4f193bce-f2ed-43a7-b871-508d3a019a0a"
      },
      "execution_count": 53,
      "outputs": [
        {
          "output_type": "execute_result",
          "data": {
            "text/plain": [
              "array([[-2,  1, -7, -1],\n",
              "       [-6, -6, -2, -1],\n",
              "       [ 4, -3, -5,  4],\n",
              "       [ 0, -5, -7,  1]])"
            ]
          },
          "metadata": {},
          "execution_count": 53
        }
      ]
    },
    {
      "cell_type": "code",
      "source": [
        "arr_16_1 = np.random.random((3 ,3))\n",
        "np.sum(arr_16_1, axis=1)"
      ],
      "metadata": {
        "colab": {
          "base_uri": "https://localhost:8080/"
        },
        "id": "Xv-g5RQZyTRa",
        "outputId": "36170128-1c26-4eeb-ea32-6f6d577fa8da"
      },
      "execution_count": 73,
      "outputs": [
        {
          "output_type": "execute_result",
          "data": {
            "text/plain": [
              "array([1.24703141, 0.9681212 , 1.18443486])"
            ]
          },
          "metadata": {},
          "execution_count": 73
        }
      ]
    },
    {
      "cell_type": "code",
      "source": [
        "arr_17_1 = np.random.randint(1, 11, (3, 4))\n",
        "arr_17_2 = arr_17_1 ** 2\n",
        "arr_17_2"
      ],
      "metadata": {
        "colab": {
          "base_uri": "https://localhost:8080/"
        },
        "id": "noJnLXe90-Fa",
        "outputId": "c5ee0bc7-10b6-416d-ef3b-0e11efd7fa12"
      },
      "execution_count": 76,
      "outputs": [
        {
          "output_type": "execute_result",
          "data": {
            "text/plain": [
              "array([[ 25,   9,  25, 100],\n",
              "       [  4,  25,  25,  16],\n",
              "       [ 36,  64,   9,  16]])"
            ]
          },
          "metadata": {},
          "execution_count": 76
        }
      ]
    },
    {
      "cell_type": "code",
      "source": [
        "arr_18_1 = np.random.randint(1, 51, 4)\n",
        "arr_18_2 = arr_18_1 ** 0.5\n",
        "arr_18_2"
      ],
      "metadata": {
        "colab": {
          "base_uri": "https://localhost:8080/"
        },
        "id": "gOxXR6Tf1f0G",
        "outputId": "89c5afb9-c51b-453a-bbab-e02c2dbf70ef"
      },
      "execution_count": 78,
      "outputs": [
        {
          "output_type": "execute_result",
          "data": {
            "text/plain": [
              "array([4.58257569, 5.19615242, 3.87298335, 4.69041576])"
            ]
          },
          "metadata": {},
          "execution_count": 78
        }
      ]
    }
  ]
}